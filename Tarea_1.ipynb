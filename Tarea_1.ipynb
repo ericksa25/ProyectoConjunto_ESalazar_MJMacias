{
 "cells": [
  {
   "cell_type": "markdown",
   "metadata": {},
   "source": [
    "<img style=\"float: left; margin: 10px 15px 15px 15px;\" src=\"https://pngimage.net/wp-content/uploads/2018/06/logo-iteso-png-5.png\" width=\"300\" height=\"450\" /> \n",
    "    \n",
    "    \n",
    "## <font color='navy'> SIMULACIÓN DE PROCESOS FINANCIEROS   \n",
    "\n",
    "**Fecha:** 4 de febrero del 2020.\n",
    "\n",
    "\n",
    "**Fecha:** 3 de febrero del 2020.\n",
    "\n",
    "**Expediente** : 717922 y 714391.\n",
    "\n",
    "**Profesor:** Oscar David Jaramillo Zuluaga.\n",
    " "
   ]
  },
  {
   "cell_type": "markdown",
   "metadata": {},
   "source": [
    "# Tarea 1: Clase 2"
   ]
  },
  {
   "cell_type": "markdown",
   "metadata": {},
   "source": [
    "**Enlace:** https://github.com/ericksa25/ProyectoConjunto_ESalazar_MJMacias"
   ]
  },
  {
   "cell_type": "markdown",
   "metadata": {},
   "source": [
    "# <font color = deepskyblue>Alumno 1: Erick Salazar Hernández</font>"
   ]
  },
  {
   "cell_type": "markdown",
   "metadata": {},
   "source": [
    "### <font color='0066CC'>Expectativas del Curso:\n",
    "- **Mis espectativas para el curso** son poder utilizar herramientas, ya previamente vistas, como lo son *Python, Anaconda, GitHub, $\\LaTeX$* entre otras, y así resolver problemas a los que se enfrentan actualmente las industrias  de una manera que todos podamos contribuir en la solución, además de esto plantear escenarios reales sobre como las empresas les gustaría la resolución de los trabajos o problemas, ya sea con una clase de presentación, archivos o explicación del mismo.\n",
    "- Aprender como poder aplicar los conocimientos vistos en empresas de cualquier giro ya sean corporaciones o pequeñas empresas.\n",
    "    "
   ]
  },
  {
   "cell_type": "markdown",
   "metadata": {},
   "source": [
    "### <font color=\"0066CC\"> Resumen de artículo *\"Python has brought computer programming to a vast new audience\"*\n",
    "<font color=\"blue\"> https://www.economist.com/science-and-technology/2018/07/19/python-has-brought-computer-programming-to-a-vast-new-audience \n",
    "    \n",
    "  <font color=\"black\">   \n",
    "> El artículo de *“The economist”* habla sobre como un científico computacional holandés de nombre Guido Van Rossum quien fue quien diseño Python en 1989, nunca pensó que sería de alto impacto su creación y que esa misma competiría con los mejores lenguajes de programación hoy en día, esto  se debió a que Guido siempre tuvo como objetivo principal que fuera un programa sencillo, fácil de leer, y que junto a una comunidad pudiera seguir creando librerías para desarrollar programas mas complejos. \n",
    "\n",
    "> Python actualmente es uno de los lenguajes mas buscados en Google y mas utilizados no solo por personas que se dedican a la programación sino por personas comunes que tiene un interés por programar y aprender. \n",
    "   \n",
    "<div> \n",
    "<img style=\"float: left; margin: 0px 0px 15px 15px;\" src=\"https://cdn.static-economist.com/sites/default/files/images/print-edition/20180721_STC872.png\" width=\"200px\" height=\"200px\" alt=\"atom\" />\n",
    "\n",
    "| Materias:                              | creditos |\n",
    "|----------------------------------------|----------|\n",
    "| Finanzas publicas                      |     8    |\n",
    "| Análisis de riesgo                     |     8    |\n",
    "| Desiciones y teoria de juegos          |     8    |\n",
    "| Simulación de procesos financieros     |     8    |\n"
   ]
  },
  {
   "cell_type": "markdown",
   "metadata": {},
   "source": [
    "1. La fórmula el rectángulo se obtiene al interpolar a $f(x)$ por medio del polinomio constante $p_0(x)= f(\\frac{a+b}{2}).$\n",
    "    \n",
    "$$\\int_a^b f(x) dx \\approx (b-a)f(\\frac{a+b}{2}) =R(f).$$\n",
    "\n",
    "2. La fórmula del trapecio se obtiene al interpolar a $f$ por medio de un polinomio lineal $p_1(x)= \\alpha x+\\beta$ que satisfaga $f(a) = p_1(a)$, y $f(b)= p_1(b)$. Determinar el polinomio lineal es equivalente a resolver un sistema de ecuaciones lineales para $\\alpha$ y $\\beta$ cuya solucion es\n",
    "\n",
    "$$ \\alpha=\\frac{f(b)-f(a)}{b-a}\\space  \\space \\beta=\\frac{f(b)a-f(a)b}{b-a}.$$ \n",
    "\n",
    "\n",
    "\n"
   ]
  },
  {
   "cell_type": "markdown",
   "metadata": {},
   "source": [
    "Al integrar $p_1(x)$ en el intervalos $[a,b]$ se obtiene la regla del trapecio con $h=b-a$\n",
    "\n",
    "$$ \\int_a^b f(x)dx \\approx \\int_a^b p_1(x)dx = \\frac{h}{2}(f(a) + f(b)) = T(f).$$\n"
   ]
  },
  {
   "cell_type": "markdown",
   "metadata": {},
   "source": [
    "El error está dado por \n",
    "\n",
    "$$\\int_a^b f(x)dx - T(f) =- \\frac{h^3}{12}(f^{\\prime\\prime}(\\eta)),\\space \\space a<\\eta<b. $$\n"
   ]
  },
  {
   "cell_type": "markdown",
   "metadata": {},
   "source": [
    "3. Por último al integrar el polinomio cuadrático que interpola a $f$ en $x=a$, $x=\\frac{a+b}{2}$, y $x=b$ se obtiene la regla de Simpson con  $h=\\frac{b-a}{2}$ \n",
    "\n",
    "$$\\int_a^b f(x)dx \\approx \\int_a^b p_2(x) dx = \\frac{h}{3}(f(a)+4f(a+h)+f(b)) = S(f).$$"
   ]
  },
  {
   "cell_type": "markdown",
   "metadata": {},
   "source": [
    "El error que se comete al usar Simpson es \n",
    "\n",
    "$$ \\int_a^b f(x)dx -S(f) = \\frac{h^5}{90}(f^{(4)}(\\eta)), \\space  a<\\eta<b.$$ "
   ]
  },
  {
   "cell_type": "code",
   "execution_count": null,
   "metadata": {},
   "outputs": [],
   "source": []
  },
  {
   "cell_type": "markdown",
   "metadata": {},
   "source": [
    "# <font color = deepskyblue>Alumno 2: María José Macías García</font>"
   ]
  },
  {
   "cell_type": "markdown",
   "metadata": {},
   "source": [
    " ## <font color = purple> MIS EXPECTATIVAS DEL CURSO </font>"
   ]
  },
  {
   "cell_type": "markdown",
   "metadata": {},
   "source": [
    "* En este curso de **Simulación de Procesos financieros** espero poder aplicar mis conocimientos adquiridos en materias pasadas como en Simulación Matemática y en Portafolios de Inversión.\n",
    "* Poder hacer uso de la programación para como dice el nombre de la materia, hacer simulaciones de procesos financieros y poder hacer uso de estas simulaciones para analizar una empresa y poder tomar decisiones teniendo en cuenta los riesgos, etc."
   ]
  },
  {
   "cell_type": "markdown",
   "metadata": {},
   "source": [
    "### <font color = brown>\"Python is becoming the world's most popular coding language\" The Economist</font>"
   ]
  },
  {
   "cell_type": "markdown",
   "metadata": {},
   "source": [
    "<img style=\"float: right; margin: 0px 10px 10px 10px;\" src=\"https://www.economist.com/img/b/1280/1401/85/sites/default/files/20180728_WOC883.png\" width=\"350\" height=\"200\" />En el artículo de *El Economista* habla sobre como **Python** se esta convirtiendo en el lenguaje de código mas popular del mundo, esto se debe a que es un lenguaje no tan complicado como otros y es fácil de leerlo, aprenderlo y crear programas con este. Los softwares que se han construido con este lenguaje van desde códigos sencillos de juegos hasta códigos muchísimo mas complicados como de astronomía. \n",
    "\n",
    "**Pyhton** esta teniendo un crecimiento demasiado rápido con respecto a los usuarios que lo utilizan para codificar, pero es muy poco probable que haga desaparecer a los demás programas que ya existen, ya que unos pueden ser todavía aun mas sencillos que Python y otros pueden ser mas útiles para crear programas mas complicados, y como la tecnología y el mundo esta en constante desarrollo y evolución pueden llegar a existir nuevos programas mejores que los que ya existen.\n",
    "\n",
    "\n",
    "\n",
    "Fuente: https://www.economist.com/graphic-detail/2018/07/26/python-is-becoming-the-worlds-most-popular-coding-language\n"
   ]
  },
  {
   "cell_type": "markdown",
   "metadata": {},
   "source": [
    "|  Nombre(s) |     Apellidos     | Edad |     Carrera     | Expediente |\n",
    "|:----------:|:-----------------:|:----:|:---------------:|:----------:|\n",
    "| María José |   Macías García   |  21  | Ing. Financiera |  if717922  |\n",
    "|    Erick   | Salazar Hernández |  20  | Ing. Financiera |  if714391  |"
   ]
  },
  {
   "cell_type": "markdown",
   "metadata": {},
   "source": [
    "## <font color = goldenrod> EJERCICIO LATEX </font>"
   ]
  },
  {
   "cell_type": "markdown",
   "metadata": {},
   "source": [
    "1. La fórmula del rectángulo se obtiene al interpolar a $f(x)$ por medio del polinomio constante $p_0(x)=f(\\frac{a+b}{2})$.\n",
    "\n",
    "<font color = green>$$\\int_{a}^{b} f(x) dx \\approx (b-a)f(\\frac{a+b}{2})=R(f).$$</font>\n",
    "\n",
    "2. La fórmula del trapecio se obtiene al interpolar a $f$ por medio de un polinomio lineal $p_1(x)=\\alpha x+ \\beta$ que satisfaga $f(a)=p_1(a)$, y $f(b)=p_1(b)$. Determinar el polinomio lineal es equivalente a resolver un sistema de ecuaciones lineales para $\\alpha$ y $\\beta$ cuya solución es \n",
    "\n",
    "<font color = green>$$\\alpha = \\frac{f(b)-f(a)}{b-a} \\ \\beta = \\frac{f(b)a-f(a)b}{b-a}$$</font>\n",
    "\n",
    "Al integrar $p_1(x)$ en el intervalo $[a,b]$ se obtiene la regla del trapecio con $h=b-a$\n",
    "\n",
    "<font color = green>$$\\int_{a}^{b} f(x) dx \\approx \\int_{a}^{b} p_1(x) dx = \\frac{h}{2}(f(a)+f(b))=T(f).$$</font>\n",
    "\n",
    "El error está dado por\n",
    "\n",
    "<font color = green>$$\\int_{a}^{b} f(x)dx-T(f)=-\\frac{h^3}{12}(f''(\\eta)), \\ a<\\eta<b.$$</font>\n",
    "\n",
    "3. Por último al integrar el polinomio cuadrático que interpola a $f$ en $x=a, \\ x=\\frac{a+b}{2}$. y $x=b$ se obtiene la regla de Simpson con $h=\\frac{b-a}{2}$\n",
    "\n",
    "<font color = green>$$\\int_{a}^{b} f(x) dx \\approx \\int_{a}^{b}p_2(x)dx=\\frac{h}{3}(f(a)+4f(a+h)+f(b))=S(f).$$</font>\n",
    "\n",
    "El error que se comete al usar Simpson es\n",
    "\n",
    "<font color = green>$$\\int_{a}^{b}f(x)dx-S(f)=\\frac{h^5}{90}(f^{(4)}(\\eta)), \\ a<\\eta<b.$$</font>"
   ]
  },
  {
   "cell_type": "markdown",
   "metadata": {},
   "source": [
    "### Fibonacci"
   ]
  },
  {
   "cell_type": "code",
   "execution_count": 6,
   "metadata": {},
   "outputs": [
    {
     "name": "stdout",
     "output_type": "stream",
     "text": [
      "0 1\n",
      "1\n",
      "2\n",
      "3\n",
      "5\n",
      "8\n",
      "13\n",
      "21\n",
      "34\n",
      "55\n",
      "89\n",
      "144\n",
      "233\n",
      "377\n",
      "610\n",
      "987\n",
      "1597\n",
      "2584\n",
      "4181\n",
      "6765\n",
      "10946\n",
      "17711\n",
      "28657\n",
      "46368\n",
      "75025\n",
      "121393\n",
      "196418\n",
      "317811\n",
      "514229\n",
      "832040\n",
      "1346269\n",
      "2178309\n",
      "3524578\n",
      "5702887\n",
      "9227465\n",
      "14930352\n",
      "24157817\n",
      "39088169\n",
      "63245986\n",
      "102334155\n",
      "165580141\n",
      "267914296\n",
      "433494437\n",
      "701408733\n",
      "1134903170\n",
      "1836311903\n",
      "2971215073\n",
      "4807526976\n",
      "7778742049\n",
      "12586269025\n",
      "20365011074\n",
      "32951280099\n",
      "53316291173\n",
      "86267571272\n",
      "139583862445\n",
      "225851433717\n",
      "365435296162\n",
      "591286729879\n",
      "956722026041\n",
      "1548008755920\n",
      "2504730781961\n",
      "4052739537881\n",
      "6557470319842\n",
      "10610209857723\n",
      "17167680177565\n",
      "27777890035288\n",
      "44945570212853\n",
      "72723460248141\n",
      "117669030460994\n",
      "190392490709135\n",
      "308061521170129\n",
      "498454011879264\n",
      "806515533049393\n",
      "1304969544928657\n",
      "2111485077978050\n",
      "3416454622906707\n",
      "5527939700884757\n",
      "8944394323791464\n",
      "14472334024676221\n",
      "23416728348467685\n",
      "37889062373143906\n",
      "61305790721611591\n",
      "99194853094755497\n",
      "160500643816367088\n",
      "259695496911122585\n",
      "420196140727489673\n",
      "679891637638612258\n",
      "1100087778366101931\n",
      "1779979416004714189\n",
      "2880067194370816120\n",
      "4660046610375530309\n",
      "7540113804746346429\n",
      "12200160415121876738\n",
      "19740274219868223167\n",
      "31940434634990099905\n",
      "51680708854858323072\n",
      "83621143489848422977\n",
      "135301852344706746049\n",
      "218922995834555169026\n",
      "354224848179261915075\n",
      "573147844013817084101\n"
     ]
    }
   ],
   "source": [
    "import numpy as np\n",
    "a=0\n",
    "b=1\n",
    "print(a,b)\n",
    "for i in range(100):\n",
    "    print(a+b)\n",
    "    a,b=b,a+b"
   ]
  },
  {
   "cell_type": "code",
   "execution_count": null,
   "metadata": {},
   "outputs": [],
   "source": []
  }
 ],
 "metadata": {
  "kernelspec": {
   "display_name": "Python 3",
   "language": "python",
   "name": "python3"
  },
  "language_info": {
   "codemirror_mode": {
    "name": "ipython",
    "version": 3
   },
   "file_extension": ".py",
   "mimetype": "text/x-python",
   "name": "python",
   "nbconvert_exporter": "python",
   "pygments_lexer": "ipython3",
   "version": "3.6.5"
  }
 },
 "nbformat": 4,
 "nbformat_minor": 2
}
