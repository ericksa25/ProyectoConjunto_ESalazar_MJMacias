{
 "cells": [
  {
   "cell_type": "code",
   "execution_count": null,
   "metadata": {},
   "outputs": [],
   "source": [
    "Erick "
   ]
  },
  {
   "cell_type": "code",
   "execution_count": null,
   "metadata": {},
   "outputs": [],
   "source": []
  },
  {
   "cell_type": "code",
   "execution_count": null,
   "metadata": {},
   "outputs": [],
   "source": []
  },
  {
   "cell_type": "code",
   "execution_count": null,
   "metadata": {},
   "outputs": [],
   "source": []
  },
  {
   "cell_type": "code",
   "execution_count": null,
   "metadata": {},
   "outputs": [],
   "source": []
  },
  {
   "cell_type": "code",
   "execution_count": null,
   "metadata": {},
   "outputs": [],
   "source": []
  },
  {
   "cell_type": "code",
   "execution_count": null,
   "metadata": {},
   "outputs": [],
   "source": []
  },
  {
   "cell_type": "code",
   "execution_count": null,
   "metadata": {},
   "outputs": [],
   "source": []
  },
  {
   "cell_type": "code",
   "execution_count": null,
   "metadata": {},
   "outputs": [],
   "source": []
  },
  {
   "cell_type": "code",
   "execution_count": null,
   "metadata": {},
   "outputs": [],
   "source": []
  },
  {
   "cell_type": "markdown",
   "metadata": {},
   "source": [
    "|  Nombre(s) |     Apellidos     | Edad |     Carrera     | Expediente |\n",
    "|:----------:|:-----------------:|:----:|:---------------:|:----------:|\n",
    "| María José |   Macías García   |  21  | Ing. Financiera |  if717922  |\n",
    "|    Erick   | Salazar Hernández |  20  | Ing. Financiera |  if714391  |\n"
   ]
  },
  {
   "cell_type": "markdown",
   "metadata": {},
   "source": [
    " ## <font color = purple> MIS EXPECTATIVAS DEL CURSO </font>"
   ]
  },
  {
   "cell_type": "markdown",
   "metadata": {},
   "source": [
    "* En este curso de **Simulación de Procesos financieros** espero poder aplicar mis conocimientos adquiridos en materias pasadas como en Simulación Matemática y en Portafolios de Inversión.\n",
    "* Me gustaría que la clase se base mas"
   ]
  },
  {
   "cell_type": "markdown",
   "metadata": {},
   "source": [
    "### <font color = brown>\"Python is becoming the world's most popular coding language\" The Economist</font>"
   ]
  },
  {
   "cell_type": "markdown",
   "metadata": {},
   "source": [
    "<img style=\"float: right; margin: 0px 10px 10px 10px;\" src=\"https://www.economist.com/img/b/1280/1401/85/sites/default/files/20180728_WOC883.png\" width=\"300\" height=\"100\" />En el artículo de *El Economista* habla sobre como **Python** se esta convirtiendo en el lenguaje de código mas popular del mundo, esto se debe a que es un lenguaje no tan complicado como otros y es fácil de leerlo, aprenderlo y crear programas con este. Los softwares que se han construido con este lenguaje van desde códigos sencillos de juegos hasta códigos muchísimo mas complicados como de astronomía. \n",
    "\n",
    "**Pyhton** esta teniendo un crecimiento demasiado rápido con respecto a los usuarios que lo utilizan para codificar, pero es muy poco probable que haga desaparecer a los demás programas que ya existen, ya que unos pueden ser todavía aun mas sencillos que Python y otros pueden ser mas útiles para crear programas mas complicados, y como la tecnología y el mundo esta en constante desarrollo y evolución pueden llegar a existir nuevos programas mejores que los que ya existen.\n",
    "\n",
    "\n",
    "\n",
    "Fuente: https://www.economist.com/graphic-detail/2018/07/26/python-is-becoming-the-worlds-most-popular-coding-language\n"
   ]
  },
  {
   "cell_type": "code",
   "execution_count": null,
   "metadata": {},
   "outputs": [],
   "source": []
  },
  {
   "cell_type": "code",
   "execution_count": null,
   "metadata": {},
   "outputs": [],
   "source": []
  },
  {
   "cell_type": "code",
   "execution_count": null,
   "metadata": {},
   "outputs": [],
   "source": []
  }
 ],
 "metadata": {
  "kernelspec": {
   "display_name": "Python 3",
   "language": "python",
   "name": "python3"
  },
  "language_info": {
   "codemirror_mode": {
    "name": "ipython",
    "version": 3
   },
   "file_extension": ".py",
   "mimetype": "text/x-python",
   "name": "python",
   "nbconvert_exporter": "python",
   "pygments_lexer": "ipython3",
   "version": "3.6.5"
  }
 },
 "nbformat": 4,
 "nbformat_minor": 2
}
